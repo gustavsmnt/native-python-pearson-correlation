{
 "cells": [
  {
   "cell_type": "code",
   "execution_count": 1,
   "metadata": {},
   "outputs": [
    {
     "name": "stdout",
     "output_type": "stream",
     "text": [
      "Mean(X) =  13333.333333333334\n",
      "Mean(Y) =  6.5\n",
      "X-Mean(X) =  [-8333.333333333334, -3333.333333333334, 1666.666666666666, -833.3333333333339, 6666.666666666666, 4166.666666666666]\n",
      "X-Mean(Y) =  [-5.5, -1.5, 1.5, -3.5, 5.5, 3.5]\n",
      "(X-Mean(X))(Y-Mean(Y)) =  [45833.333333333336, 5000.000000000001, 2499.999999999999, 2916.666666666669, 36666.666666666664, 14583.333333333332]\n",
      "sigma(X-Mean(X))(Y-Mean(Y)) =  107500.0\n",
      "sigma(X-Mean(X))^2 =  145833333.3333333\n",
      "sigma(Y-Mean(Y))^2 =  89.5\n",
      "sigma((X-Mean(X))^2)*sigma((Y-Mean(Y)^2) =  13052083333.333332\n",
      "Akar dari sigma((X-Mean(X))^2)*sigma((Y-Mean(Y)^2) =  114245.7147263447\n",
      "r =  0.9409543303877711\n"
     ]
    }
   ],
   "source": [
    "#inisialisasi data discount\n",
    "disc = [5000, 10000, 15000, 12500, 20000, 17500] \n",
    "X = disc\n",
    "\n",
    "#inisialisasi data number of transaction\n",
    "num_of_trx = [1, 5, 8, 3, 12, 10]                \n",
    "Y = num_of_trx\n",
    "\n",
    "\n",
    "X_bar = sum(X)/len(X)               #Mean(X)       \n",
    "print('Mean(X) = ', X_bar) \n",
    "\n",
    "Y_bar = sum(Y)/len(Y)               #Mean(Y) \n",
    "print('Mean(Y) = ', Y_bar)\n",
    "\n",
    "xdiff = [x_i - X_bar for x_i in X] #X - Mean(X)\n",
    "print('X-Mean(X) = ',xdiff)\n",
    "\n",
    "ydiff = [y_i - Y_bar for y_i in Y] #Y - Mean(Y)\n",
    "print('X-Mean(Y) = ',ydiff)\n",
    "\n",
    "#(X - Mean(X))(Y - Mean(Y))\n",
    "XY = [x_i*y_i for x_i, y_i in zip (xdiff, ydiff)] \n",
    "print('(X-Mean(X))(Y-Mean(Y)) = ',XY)\n",
    "\n",
    "XY_sum = sum(XY) #sigma(X - Mean(X))(Y - Mean(Y))\n",
    "print('sigma(X-Mean(X))(Y-Mean(Y)) = ',XY_sum)\n",
    "\n",
    "xdiff_sqr = [x_d**2 for x_d in xdiff] #(X - Mean(X))^2\n",
    "xdiff_sqr_sum = sum(xdiff_sqr)        #sigma(X - Mean(X))^2\n",
    "print('sigma(X-Mean(X))^2 = ',xdiff_sqr_sum)\n",
    "\n",
    "ydiff_sqr = [y_d**2 for y_d in ydiff] #(Y - Mean(Y))^2\n",
    "ydiff_sqr_sum = sum(ydiff_sqr)        #sigma(Y - Mean(Y))^2\n",
    "print('sigma(Y-Mean(Y))^2 = ',ydiff_sqr_sum)\n",
    "\n",
    "#(sigma(X - Mean(X))^2)*(sigma(Y - Mean(Y)^2)\n",
    "xydiff_sqr_sum = ydiff_sqr_sum*xdiff_sqr_sum \n",
    "print('sigma((X-Mean(X))^2)*sigma((Y-Mean(Y)^2) = ',xydiff_sqr_sum)\n",
    "\n",
    "#akar dari sigma(xdiff^2)*sigma(ydiff^2)\n",
    "sqrt_xydiff_sqr_sum = xydiff_sqr_sum**(1/2) \n",
    "print('Akar dari sigma((X-Mean(X))^2)*sigma((Y-Mean(Y)^2) = ',sqrt_xydiff_sqr_sum)\n",
    "\n",
    "#r\n",
    "r = XY_sum/sqrt_xydiff_sqr_sum\n",
    "print('r = ',r)"
   ]
  }
 ],
 "metadata": {
  "kernelspec": {
   "display_name": "Python 3",
   "language": "python",
   "name": "python3"
  },
  "language_info": {
   "codemirror_mode": {
    "name": "ipython",
    "version": 3
   },
   "file_extension": ".py",
   "mimetype": "text/x-python",
   "name": "python",
   "nbconvert_exporter": "python",
   "pygments_lexer": "ipython3",
   "version": "3.11.0"
  },
  "orig_nbformat": 4
 },
 "nbformat": 4,
 "nbformat_minor": 2
}
